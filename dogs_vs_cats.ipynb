{
 "cells": [
  {
   "cell_type": "code",
   "execution_count": null,
   "metadata": {},
   "outputs": [],
   "source": [
    "from matplotlib import pyplot as plt\n",
    "import numpy as np\n",
    "import tensorflow as tf\n",
    "from tensorflow.keras import layers\n",
    "from tensorflow.keras.layers import Dense, Flatten, Conv2D, Input, Dropout, MaxPooling2D, GlobalAveragePooling2D\n",
    "from tensorflow.keras.layers import concatenate, BatchNormalization, Activation\n",
    "from tensorflow.keras.models import Model, Sequential, load_model, save_model\n",
    "from tensorflow.keras.utils import to_categorical\n",
    "from tensorflow.keras.datasets import mnist\n",
    "from tensorflow.keras.optimizers import SGD, Adam\n",
    "from keras.preprocessing.image import load_img, img_to_array\n",
    "from sklearn.model_selection import KFold\n",
    "from numpy import mean, std\n",
    "import os\n",
    "from os import listdir\n",
    "from numpy import save\n",
    "from keras.models import load_model\n",
    "import sys\n",
    "from tensorflow.keras.preprocessing.image import ImageDataGenerator\n",
    "from matplotlib.image import imread\n",
    "from shutil import copyfile\n",
    "from random import seed, random\n",
    "from AlexNet import AlexNet\n",
    "from VGG import VGG\n",
    "from Resnet import Resnet\n",
    "%matplotlib inline"
   ]
  },
  {
   "cell_type": "code",
   "execution_count": null,
   "metadata": {},
   "outputs": [],
   "source": [
    "train_folder = \"train/\"\n",
    "database_home = 'dataset_dogs_vs_cats/'"
   ]
  },
  {
   "cell_type": "code",
   "execution_count": null,
   "metadata": {},
   "outputs": [],
   "source": [
    "def data_processing():\n",
    "    photos, labels = list(), list()\n",
    "    #enumerate file in directory\n",
    "    for file in listdir(train_folder):\n",
    "        #determine class\n",
    "        if file.startswith('cat'):\n",
    "            output = 1.0\n",
    "        elif file.startswith('dog'):\n",
    "            output = 0.0\n",
    "        #load image\n",
    "        photo = load_img(train_folder + file, target_size=(224, 224))\n",
    "        #convert to numpy array\n",
    "        photo = img_to_array(photo)\n",
    "        #store\n",
    "        photos.append(photo)\n",
    "        labels.append(output)\n",
    "    #convert to numpy arrays\n",
    "    photos = np.asarray(photos)\n",
    "    labels = np.asarray(labels)\n",
    "    print(photos.shape, labels.shape)\n",
    "    print(labels)\n",
    "    #save the reshaped photos\n",
    "    save('dogs_vs_cats_photos.npy', photos)\n",
    "    save('dogs_vs_cats_labels.npy', labels)\n",
    "\n",
    "    subdirs = ['train/', 'test/']\n",
    "    for subdir in subdirs:\n",
    "        labeldirs = ['dogs/', 'cats/']\n",
    "        for labeldir in labeldirs:\n",
    "            newdir = database_home + subdir + labeldir\n",
    "            os.makedirs(newdir, exist_ok=True)"
   ]
  },
  {
   "cell_type": "code",
   "execution_count": null,
   "metadata": {},
   "outputs": [],
   "source": [
    "def insert_data():\n",
    "    #seed random number generator\n",
    "    seed(1)\n",
    "    #define validation ratio\n",
    "    val_ratio = 0.25\n",
    "    #copy training dataset images into subdirectories\n",
    "    for file in listdir(train_folder):\n",
    "        src = train_folder + '/' + file\n",
    "        dst_dir = 'train/'\n",
    "        if random() < val_ratio:\n",
    "            dst_dir = 'test/'\n",
    "        if file.startswith('cat'):\n",
    "            dst = database_home + dst_dir + 'cats/' + file\n",
    "            copyfile(src, dst)\n",
    "        elif file.startswith('dog'):\n",
    "            dst = database_home + dst_dir + 'dogs/' + file\n",
    "            copyfile(src, dst)"
   ]
  },
  {
   "cell_type": "code",
   "execution_count": null,
   "metadata": {},
   "outputs": [],
   "source": [
    "def define_model():\n",
    "    #model = AlexNet()\n",
    "    #model = VGG()\n",
    "    model = Resnet()\n",
    "    opt = Adam()\n",
    "    model.compile(optimizer=opt, loss='binary_crossentropy', metrics=['accuracy'])\n",
    "    return model"
   ]
  },
  {
   "cell_type": "code",
   "execution_count": null,
   "metadata": {},
   "outputs": [],
   "source": [
    "#plot diagnostic learning curves\n",
    "def summarize_diagnostics(histories):\n",
    "    #plot loss\n",
    "    plt.subplot(1, 2, 1)\n",
    "    plt.title('Cross Entropy Loss')\n",
    "    plt.plot(histories.history['loss'], color='blue', label='train')\n",
    "    plt.plot(histories.history['val_loss'], color='orange', label='test')\n",
    "    #plot accuracy\n",
    "    plt.subplot(1, 2, 2)\n",
    "    plt.title('Classification Accuracy')\n",
    "    plt.plot(histories.history['accuracy'], color='blue', label='train')\n",
    "    plt.plot(histories.history['val_accuracy'], color='orange', label='test')\n",
    "    plt.show()\n",
    "    #save plot to file\n",
    "    filename = sys.argv[0].split('/')[-1]\n",
    "    plt.savefig(filename + '_plot.png')\n",
    "    plt.close()"
   ]
  },
  {
   "cell_type": "code",
   "execution_count": null,
   "metadata": {},
   "outputs": [],
   "source": [
    "def run_test_harness():\n",
    "    data_processing()\n",
    "    insert_data()\n",
    "    train_datagen = ImageDataGenerator(rescale=1.0/255.0, width_shift_range=0.1, height_shift_range=0.1, horizontal_flip=True)\n",
    "    test_datagen = ImageDataGenerator(rescale=1.0/255.0)\n",
    "    train_it = train_datagen.flow_from_directory(f'{database_home}train/', class_mode='binary', batch_size=64, target_size=(224,224))\n",
    "    test_it = test_datagen.flow_from_directory(f'{database_home}test/', class_mode='binary', batch_size=64, target_size=(224,224))\n",
    "    #load model\n",
    "    filename = 'dogs_vs_cats_model.keras'\n",
    "    #define model\n",
    "    model = define_model()\n",
    "    #fit model\n",
    "    history = model.fit(train_it, \n",
    "                        steps_per_epoch=(train_it.samples // train_it.batch_size), \n",
    "                        validation_data=test_it, \n",
    "                        validation_steps=(test_it.samples // test_it.batch_size), \n",
    "                        epochs=20, verbose=1)\n",
    "    #evaluate model\n",
    "    _, acc = model.evaluate(test_it, \n",
    "                            steps=(test_it.samples // test_it.batch_size), \n",
    "                            verbose=0) \n",
    "    print('> %.3f' % (acc * 100.0))\n",
    "    #learning curves\n",
    "    summarize_diagnostics(history)\n",
    "    #save model\n",
    "    model.save(filename)"
   ]
  },
  {
   "cell_type": "code",
   "execution_count": null,
   "metadata": {},
   "outputs": [],
   "source": [
    "run_test_harness()"
   ]
  },
  {
   "cell_type": "code",
   "execution_count": null,
   "metadata": {},
   "outputs": [],
   "source": [
    "model_file = 'dogs_vs_cats_model.keras'\n",
    "#model_name = AlexNet()\n",
    "#model_name = VGG()\n",
    "model_name = Resnet()"
   ]
  },
  {
   "cell_type": "code",
   "execution_count": null,
   "metadata": {},
   "outputs": [],
   "source": [
    "def recreate_model():\n",
    "    return model_name"
   ]
  },
  {
   "cell_type": "code",
   "execution_count": null,
   "metadata": {},
   "outputs": [],
   "source": [
    "def load_image(filename):\n",
    "    img = load_img(filename, target_size=(224, 224))\n",
    "    img = img_to_array(img)\n",
    "    img = img.reshape(1, 224, 224, 3)\n",
    "    img = img.astype('float32')\n",
    "    #center pixel values around 0\n",
    "    img -= [123.68, 116.779, 103.939]\n",
    "    return img"
   ]
  },
  {
   "cell_type": "code",
   "execution_count": null,
   "metadata": {},
   "outputs": [],
   "source": [
    "def run_example():\n",
    "    folder_path = 'test1/test1/'\n",
    "    #load model\n",
    "    model = load_model(model_file, custom_objects={f'{model_name}': recreate_model()})\n",
    "    #store predictions\n",
    "    predictions = []\n",
    "    #enumerate files in the directory\n",
    "    for file in os.listdir(folder_path):\n",
    "        file_path = os.path.join(folder_path, file)\n",
    "        if os.path.isfile(file_path):\n",
    "            img = load_image(file_path)\n",
    "            #predict the class\n",
    "            prediction = model.predict(img)\n",
    "            result = 1 if prediction >= 0.5 else 0\n",
    "            predictions.append((file, result))\n",
    "    return predictions"
   ]
  },
  {
   "cell_type": "code",
   "execution_count": null,
   "metadata": {},
   "outputs": [],
   "source": [
    "predictions = run_example()\n",
    "for filename, result in predictions:\n",
    "    print(f'Filename: {filename}, Predict: {\"Cat\" if result == 1 else \"Dog\"}')"
   ]
  }
 ],
 "metadata": {
  "kernelspec": {
   "display_name": "Python 3",
   "language": "python",
   "name": "python3"
  },
  "language_info": {
   "codemirror_mode": {
    "name": "ipython",
    "version": 3
   },
   "file_extension": ".py",
   "mimetype": "text/x-python",
   "name": "python",
   "nbconvert_exporter": "python",
   "pygments_lexer": "ipython3",
   "version": "3.12.1"
  }
 },
 "nbformat": 4,
 "nbformat_minor": 2
}
